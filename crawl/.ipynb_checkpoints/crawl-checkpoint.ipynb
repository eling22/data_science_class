{
 "cells": [
  {
   "cell_type": "code",
   "execution_count": null,
   "metadata": {},
   "outputs": [],
   "source": [
    "import requests\n",
    "from bs4 import BeautifulSoup\n",
    "\n",
    "file = open('all_article.txt','w')\n",
    "\n",
    "#url = \"https://www.ptt.cc/bbs/Beauty/index.html\"\n",
    "url = \"https://www.ptt.cc/bbs/Beauty/index2650.html\"\n",
    "r = requests.get(url)\n",
    "content = r.text\n",
    "\n",
    "soup = BeautifulSoup(content,'html.parser')\n",
    "ptt_list = soup.find_all(class_=\"r-ent\")\n",
    "\n",
    "#\"\"\"\n",
    "\n",
    "for part in ptt_list :\n",
    "    author = part.find(class_=\"author\")\n",
    "    print (author.string)\n",
    "    if author.string != \"-\" :\n",
    "        date = part.find(class_=\"date\")\n",
    "        title = part.find(class_=\"title\").find('a')\n",
    "        url = part.find('a').get('href')\n",
    "        author = part.find(class_=\"author\")\n",
    "        print (date.string)\n",
    "        print (title.string)\n",
    "        print (\"https://www.ptt.cc/\"+url)\n",
    "#\"\"\"\n",
    "\n",
    "\n",
    "\n",
    "#print >> file, \n",
    "\n",
    "#print (ptt_list)\n",
    "\n",
    "file.close()\n"
   ]
  }
 ],
 "metadata": {
  "kernelspec": {
   "display_name": "Python 3",
   "language": "python",
   "name": "python3"
  },
  "language_info": {
   "codemirror_mode": {
    "name": "ipython",
    "version": 3
   },
   "file_extension": ".py",
   "mimetype": "text/x-python",
   "name": "python",
   "nbconvert_exporter": "python",
   "pygments_lexer": "ipython3",
   "version": "3.6.5"
  }
 },
 "nbformat": 4,
 "nbformat_minor": 2
}
